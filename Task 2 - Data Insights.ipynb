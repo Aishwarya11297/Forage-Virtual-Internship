{
 "cells": [
  {
   "cell_type": "code",
   "execution_count": 1,
   "id": "c468a5c4",
   "metadata": {},
   "outputs": [],
   "source": [
    "import pandas as pd\n",
    "import numpy as np\n",
    "import datetime as dt\n",
    "import matplotlib.pyplot as plt\n",
    "import seaborn as sns\n",
    "%matplotlib inline"
   ]
  },
  {
   "cell_type": "code",
   "execution_count": 2,
   "id": "6ea7810b",
   "metadata": {},
   "outputs": [
    {
     "name": "stderr",
     "output_type": "stream",
     "text": [
      "C:\\Users\\Dell\\AppData\\Local\\Temp/ipykernel_9804/3447533310.py:2: FutureWarning: Inferring datetime64[ns] from data containing strings is deprecated and will be removed in a future version. To retain the old behavior explicitly pass Series(data, dtype={value.dtype})\n",
      "  CustomerDemographic = pd.read_excel(r\"C:\\Users\\Dell\\KPMG_VI_New_raw_data_update_final.xlsx\",sheet_name=\"CustomerDemographic\",header=1)\n"
     ]
    }
   ],
   "source": [
    "Transactions = pd.read_Transactions = pd.read_excel(r\"C:\\Users\\Dell\\KPMG_VI_New_raw_data_update_final.xlsx\",sheet_name=\"Transactions\",header=1)\n",
    "CustomerDemographic = pd.read_excel(r\"C:\\Users\\Dell\\KPMG_VI_New_raw_data_update_final.xlsx\",sheet_name=\"CustomerDemographic\",header=1)\n",
    "CustomerAddress = pd.read_excel(r\"C:\\Users\\Dell\\KPMG_VI_New_raw_data_update_final.xlsx\",sheet_name=\"CustomerAddress\",header=1)\n",
    "NewCustomerList_clean = pd.read_excel(r\"C:\\Users\\Dell\\NewCustomerList_clean.xlsx\")"
   ]
  },
  {
   "cell_type": "code",
   "execution_count": 3,
   "id": "f083ea05",
   "metadata": {},
   "outputs": [],
   "source": [
    "#Merge first 3 datasets based on customer id\n",
    "csv1_2 = pd.merge(Transactions, CustomerDemographic, on=['customer_id'])\n",
    "csv1_2_3 = pd.merge(csv1_2, CustomerAddress, on=['customer_id'])\n"
   ]
  },
  {
   "cell_type": "code",
   "execution_count": 4,
   "id": "b51f5a01",
   "metadata": {},
   "outputs": [],
   "source": [
    "csv1_2_3.to_csv( \"merged.csv\", index=False, encoding='utf-8-sig')"
   ]
  },
  {
   "cell_type": "code",
   "execution_count": 5,
   "id": "30a99b1f",
   "metadata": {},
   "outputs": [
    {
     "data": {
      "text/html": [
       "<div>\n",
       "<style scoped>\n",
       "    .dataframe tbody tr th:only-of-type {\n",
       "        vertical-align: middle;\n",
       "    }\n",
       "\n",
       "    .dataframe tbody tr th {\n",
       "        vertical-align: top;\n",
       "    }\n",
       "\n",
       "    .dataframe thead th {\n",
       "        text-align: right;\n",
       "    }\n",
       "</style>\n",
       "<table border=\"1\" class=\"dataframe\">\n",
       "  <thead>\n",
       "    <tr style=\"text-align: right;\">\n",
       "      <th></th>\n",
       "      <th>transaction_id</th>\n",
       "      <th>product_id</th>\n",
       "      <th>customer_id</th>\n",
       "      <th>transaction_date</th>\n",
       "      <th>online_order</th>\n",
       "      <th>order_status</th>\n",
       "      <th>brand</th>\n",
       "      <th>product_line</th>\n",
       "      <th>product_class</th>\n",
       "      <th>product_size</th>\n",
       "      <th>...</th>\n",
       "      <th>wealth_segment</th>\n",
       "      <th>deceased_indicator</th>\n",
       "      <th>default</th>\n",
       "      <th>owns_car</th>\n",
       "      <th>tenure</th>\n",
       "      <th>address</th>\n",
       "      <th>postcode</th>\n",
       "      <th>state</th>\n",
       "      <th>country</th>\n",
       "      <th>property_valuation</th>\n",
       "    </tr>\n",
       "  </thead>\n",
       "  <tbody>\n",
       "    <tr>\n",
       "      <th>0</th>\n",
       "      <td>1</td>\n",
       "      <td>2</td>\n",
       "      <td>2950</td>\n",
       "      <td>2017-02-25</td>\n",
       "      <td>0.0</td>\n",
       "      <td>Approved</td>\n",
       "      <td>Solex</td>\n",
       "      <td>Standard</td>\n",
       "      <td>medium</td>\n",
       "      <td>medium</td>\n",
       "      <td>...</td>\n",
       "      <td>Mass Customer</td>\n",
       "      <td>N</td>\n",
       "      <td>ã»(ï¿£âï¿£)ã»:*:</td>\n",
       "      <td>Yes</td>\n",
       "      <td>10.0</td>\n",
       "      <td>984 Hoepker Court</td>\n",
       "      <td>3064</td>\n",
       "      <td>VIC</td>\n",
       "      <td>Australia</td>\n",
       "      <td>6</td>\n",
       "    </tr>\n",
       "    <tr>\n",
       "      <th>1</th>\n",
       "      <td>11065</td>\n",
       "      <td>1</td>\n",
       "      <td>2950</td>\n",
       "      <td>2017-10-16</td>\n",
       "      <td>0.0</td>\n",
       "      <td>Approved</td>\n",
       "      <td>Giant Bicycles</td>\n",
       "      <td>Standard</td>\n",
       "      <td>medium</td>\n",
       "      <td>medium</td>\n",
       "      <td>...</td>\n",
       "      <td>Mass Customer</td>\n",
       "      <td>N</td>\n",
       "      <td>ã»(ï¿£âï¿£)ã»:*:</td>\n",
       "      <td>Yes</td>\n",
       "      <td>10.0</td>\n",
       "      <td>984 Hoepker Court</td>\n",
       "      <td>3064</td>\n",
       "      <td>VIC</td>\n",
       "      <td>Australia</td>\n",
       "      <td>6</td>\n",
       "    </tr>\n",
       "    <tr>\n",
       "      <th>2</th>\n",
       "      <td>18923</td>\n",
       "      <td>62</td>\n",
       "      <td>2950</td>\n",
       "      <td>2017-04-26</td>\n",
       "      <td>0.0</td>\n",
       "      <td>Approved</td>\n",
       "      <td>Solex</td>\n",
       "      <td>Standard</td>\n",
       "      <td>medium</td>\n",
       "      <td>medium</td>\n",
       "      <td>...</td>\n",
       "      <td>Mass Customer</td>\n",
       "      <td>N</td>\n",
       "      <td>ã»(ï¿£âï¿£)ã»:*:</td>\n",
       "      <td>Yes</td>\n",
       "      <td>10.0</td>\n",
       "      <td>984 Hoepker Court</td>\n",
       "      <td>3064</td>\n",
       "      <td>VIC</td>\n",
       "      <td>Australia</td>\n",
       "      <td>6</td>\n",
       "    </tr>\n",
       "    <tr>\n",
       "      <th>3</th>\n",
       "      <td>2</td>\n",
       "      <td>3</td>\n",
       "      <td>3120</td>\n",
       "      <td>2017-05-21</td>\n",
       "      <td>1.0</td>\n",
       "      <td>Approved</td>\n",
       "      <td>Trek Bicycles</td>\n",
       "      <td>Standard</td>\n",
       "      <td>medium</td>\n",
       "      <td>large</td>\n",
       "      <td>...</td>\n",
       "      <td>Mass Customer</td>\n",
       "      <td>N</td>\n",
       "      <td>ZÌ®ÌÍÌ ÍÍAÌ¥ÌÌÍÌ»ÌLÌ£ÍÍÌ¯Ì¹ÌÍGÌ»OÌ­ÌÌ®</td>\n",
       "      <td>Yes</td>\n",
       "      <td>10.0</td>\n",
       "      <td>4 Shopko Circle</td>\n",
       "      <td>2196</td>\n",
       "      <td>NSW</td>\n",
       "      <td>Australia</td>\n",
       "      <td>5</td>\n",
       "    </tr>\n",
       "    <tr>\n",
       "      <th>4</th>\n",
       "      <td>6862</td>\n",
       "      <td>4</td>\n",
       "      <td>3120</td>\n",
       "      <td>2017-10-05</td>\n",
       "      <td>0.0</td>\n",
       "      <td>Approved</td>\n",
       "      <td>Giant Bicycles</td>\n",
       "      <td>Standard</td>\n",
       "      <td>high</td>\n",
       "      <td>medium</td>\n",
       "      <td>...</td>\n",
       "      <td>Mass Customer</td>\n",
       "      <td>N</td>\n",
       "      <td>ZÌ®ÌÍÌ ÍÍAÌ¥ÌÌÍÌ»ÌLÌ£ÍÍÌ¯Ì¹ÌÍGÌ»OÌ­ÌÌ®</td>\n",
       "      <td>Yes</td>\n",
       "      <td>10.0</td>\n",
       "      <td>4 Shopko Circle</td>\n",
       "      <td>2196</td>\n",
       "      <td>NSW</td>\n",
       "      <td>Australia</td>\n",
       "      <td>5</td>\n",
       "    </tr>\n",
       "  </tbody>\n",
       "</table>\n",
       "<p>5 rows × 30 columns</p>\n",
       "</div>"
      ],
      "text/plain": [
       "   transaction_id  product_id  customer_id transaction_date  online_order  \\\n",
       "0               1           2         2950       2017-02-25           0.0   \n",
       "1           11065           1         2950       2017-10-16           0.0   \n",
       "2           18923          62         2950       2017-04-26           0.0   \n",
       "3               2           3         3120       2017-05-21           1.0   \n",
       "4            6862           4         3120       2017-10-05           0.0   \n",
       "\n",
       "  order_status           brand product_line product_class product_size  ...  \\\n",
       "0     Approved           Solex     Standard        medium       medium  ...   \n",
       "1     Approved  Giant Bicycles     Standard        medium       medium  ...   \n",
       "2     Approved           Solex     Standard        medium       medium  ...   \n",
       "3     Approved   Trek Bicycles     Standard        medium        large  ...   \n",
       "4     Approved  Giant Bicycles     Standard          high       medium  ...   \n",
       "\n",
       "   wealth_segment  deceased_indicator                                 default  \\\n",
       "0   Mass Customer                   N                        ã»(ï¿£âï¿£)ã»:*:   \n",
       "1   Mass Customer                   N                        ã»(ï¿£âï¿£)ã»:*:   \n",
       "2   Mass Customer                   N                        ã»(ï¿£âï¿£)ã»:*:   \n",
       "3   Mass Customer                   N  ZÌ®ÌÍÌ ÍÍAÌ¥ÌÌÍÌ»ÌLÌ£ÍÍÌ¯Ì¹ÌÍGÌ»OÌ­ÌÌ®   \n",
       "4   Mass Customer                   N  ZÌ®ÌÍÌ ÍÍAÌ¥ÌÌÍÌ»ÌLÌ£ÍÍÌ¯Ì¹ÌÍGÌ»OÌ­ÌÌ®   \n",
       "\n",
       "  owns_car tenure            address  postcode state    country  \\\n",
       "0      Yes   10.0  984 Hoepker Court      3064   VIC  Australia   \n",
       "1      Yes   10.0  984 Hoepker Court      3064   VIC  Australia   \n",
       "2      Yes   10.0  984 Hoepker Court      3064   VIC  Australia   \n",
       "3      Yes   10.0    4 Shopko Circle      2196   NSW  Australia   \n",
       "4      Yes   10.0    4 Shopko Circle      2196   NSW  Australia   \n",
       "\n",
       "  property_valuation  \n",
       "0                  6  \n",
       "1                  6  \n",
       "2                  6  \n",
       "3                  5  \n",
       "4                  5  \n",
       "\n",
       "[5 rows x 30 columns]"
      ]
     },
     "execution_count": 5,
     "metadata": {},
     "output_type": "execute_result"
    }
   ],
   "source": [
    "csv1_2_3.head()"
   ]
  },
  {
   "cell_type": "code",
   "execution_count": 6,
   "id": "c3a00dab",
   "metadata": {},
   "outputs": [],
   "source": [
    "df1 = csv1_2_3.sort_values(by=['customer_id'])"
   ]
  },
  {
   "cell_type": "markdown",
   "id": "c860eafe",
   "metadata": {},
   "source": [
    "## Old Customer Data Exploration "
   ]
  },
  {
   "cell_type": "code",
   "execution_count": 7,
   "id": "0b9ab886",
   "metadata": {},
   "outputs": [
    {
     "data": {
      "text/html": [
       "<div>\n",
       "<style scoped>\n",
       "    .dataframe tbody tr th:only-of-type {\n",
       "        vertical-align: middle;\n",
       "    }\n",
       "\n",
       "    .dataframe tbody tr th {\n",
       "        vertical-align: top;\n",
       "    }\n",
       "\n",
       "    .dataframe thead th {\n",
       "        text-align: right;\n",
       "    }\n",
       "</style>\n",
       "<table border=\"1\" class=\"dataframe\">\n",
       "  <thead>\n",
       "    <tr style=\"text-align: right;\">\n",
       "      <th></th>\n",
       "      <th>transaction_id</th>\n",
       "      <th>product_id</th>\n",
       "      <th>customer_id</th>\n",
       "      <th>transaction_date</th>\n",
       "      <th>online_order</th>\n",
       "      <th>order_status</th>\n",
       "      <th>brand</th>\n",
       "      <th>product_line</th>\n",
       "      <th>product_class</th>\n",
       "      <th>product_size</th>\n",
       "      <th>...</th>\n",
       "      <th>wealth_segment</th>\n",
       "      <th>deceased_indicator</th>\n",
       "      <th>default</th>\n",
       "      <th>owns_car</th>\n",
       "      <th>tenure</th>\n",
       "      <th>address</th>\n",
       "      <th>postcode</th>\n",
       "      <th>state</th>\n",
       "      <th>country</th>\n",
       "      <th>property_valuation</th>\n",
       "    </tr>\n",
       "  </thead>\n",
       "  <tbody>\n",
       "    <tr>\n",
       "      <th>605</th>\n",
       "      <td>14486</td>\n",
       "      <td>23</td>\n",
       "      <td>1</td>\n",
       "      <td>2017-03-27</td>\n",
       "      <td>0.0</td>\n",
       "      <td>Approved</td>\n",
       "      <td>Norco Bicycles</td>\n",
       "      <td>Mountain</td>\n",
       "      <td>low</td>\n",
       "      <td>small</td>\n",
       "      <td>...</td>\n",
       "      <td>Mass Customer</td>\n",
       "      <td>N</td>\n",
       "      <td>\"'</td>\n",
       "      <td>Yes</td>\n",
       "      <td>11.0</td>\n",
       "      <td>060 Morning Avenue</td>\n",
       "      <td>2016</td>\n",
       "      <td>New South Wales</td>\n",
       "      <td>Australia</td>\n",
       "      <td>10</td>\n",
       "    </tr>\n",
       "    <tr>\n",
       "      <th>608</th>\n",
       "      <td>16423</td>\n",
       "      <td>9</td>\n",
       "      <td>1</td>\n",
       "      <td>2017-12-09</td>\n",
       "      <td>1.0</td>\n",
       "      <td>Approved</td>\n",
       "      <td>OHM Cycles</td>\n",
       "      <td>Road</td>\n",
       "      <td>medium</td>\n",
       "      <td>medium</td>\n",
       "      <td>...</td>\n",
       "      <td>Mass Customer</td>\n",
       "      <td>N</td>\n",
       "      <td>\"'</td>\n",
       "      <td>Yes</td>\n",
       "      <td>11.0</td>\n",
       "      <td>060 Morning Avenue</td>\n",
       "      <td>2016</td>\n",
       "      <td>New South Wales</td>\n",
       "      <td>Australia</td>\n",
       "      <td>10</td>\n",
       "    </tr>\n",
       "    <tr>\n",
       "      <th>607</th>\n",
       "      <td>15663</td>\n",
       "      <td>32</td>\n",
       "      <td>1</td>\n",
       "      <td>2017-06-04</td>\n",
       "      <td>1.0</td>\n",
       "      <td>Approved</td>\n",
       "      <td>Giant Bicycles</td>\n",
       "      <td>Standard</td>\n",
       "      <td>medium</td>\n",
       "      <td>medium</td>\n",
       "      <td>...</td>\n",
       "      <td>Mass Customer</td>\n",
       "      <td>N</td>\n",
       "      <td>\"'</td>\n",
       "      <td>Yes</td>\n",
       "      <td>11.0</td>\n",
       "      <td>060 Morning Avenue</td>\n",
       "      <td>2016</td>\n",
       "      <td>New South Wales</td>\n",
       "      <td>Australia</td>\n",
       "      <td>10</td>\n",
       "    </tr>\n",
       "    <tr>\n",
       "      <th>606</th>\n",
       "      <td>14931</td>\n",
       "      <td>31</td>\n",
       "      <td>1</td>\n",
       "      <td>2017-12-14</td>\n",
       "      <td>1.0</td>\n",
       "      <td>Approved</td>\n",
       "      <td>Giant Bicycles</td>\n",
       "      <td>Standard</td>\n",
       "      <td>medium</td>\n",
       "      <td>medium</td>\n",
       "      <td>...</td>\n",
       "      <td>Mass Customer</td>\n",
       "      <td>N</td>\n",
       "      <td>\"'</td>\n",
       "      <td>Yes</td>\n",
       "      <td>11.0</td>\n",
       "      <td>060 Morning Avenue</td>\n",
       "      <td>2016</td>\n",
       "      <td>New South Wales</td>\n",
       "      <td>Australia</td>\n",
       "      <td>10</td>\n",
       "    </tr>\n",
       "    <tr>\n",
       "      <th>599</th>\n",
       "      <td>94</td>\n",
       "      <td>86</td>\n",
       "      <td>1</td>\n",
       "      <td>2017-12-23</td>\n",
       "      <td>0.0</td>\n",
       "      <td>Approved</td>\n",
       "      <td>OHM Cycles</td>\n",
       "      <td>Standard</td>\n",
       "      <td>medium</td>\n",
       "      <td>medium</td>\n",
       "      <td>...</td>\n",
       "      <td>Mass Customer</td>\n",
       "      <td>N</td>\n",
       "      <td>\"'</td>\n",
       "      <td>Yes</td>\n",
       "      <td>11.0</td>\n",
       "      <td>060 Morning Avenue</td>\n",
       "      <td>2016</td>\n",
       "      <td>New South Wales</td>\n",
       "      <td>Australia</td>\n",
       "      <td>10</td>\n",
       "    </tr>\n",
       "  </tbody>\n",
       "</table>\n",
       "<p>5 rows × 30 columns</p>\n",
       "</div>"
      ],
      "text/plain": [
       "     transaction_id  product_id  customer_id transaction_date  online_order  \\\n",
       "605           14486          23            1       2017-03-27           0.0   \n",
       "608           16423           9            1       2017-12-09           1.0   \n",
       "607           15663          32            1       2017-06-04           1.0   \n",
       "606           14931          31            1       2017-12-14           1.0   \n",
       "599              94          86            1       2017-12-23           0.0   \n",
       "\n",
       "    order_status           brand product_line product_class product_size  ...  \\\n",
       "605     Approved  Norco Bicycles     Mountain           low        small  ...   \n",
       "608     Approved      OHM Cycles         Road        medium       medium  ...   \n",
       "607     Approved  Giant Bicycles     Standard        medium       medium  ...   \n",
       "606     Approved  Giant Bicycles     Standard        medium       medium  ...   \n",
       "599     Approved      OHM Cycles     Standard        medium       medium  ...   \n",
       "\n",
       "     wealth_segment  deceased_indicator  default owns_car tenure  \\\n",
       "605   Mass Customer                   N       \"'      Yes   11.0   \n",
       "608   Mass Customer                   N       \"'      Yes   11.0   \n",
       "607   Mass Customer                   N       \"'      Yes   11.0   \n",
       "606   Mass Customer                   N       \"'      Yes   11.0   \n",
       "599   Mass Customer                   N       \"'      Yes   11.0   \n",
       "\n",
       "                address  postcode            state    country  \\\n",
       "605  060 Morning Avenue      2016  New South Wales  Australia   \n",
       "608  060 Morning Avenue      2016  New South Wales  Australia   \n",
       "607  060 Morning Avenue      2016  New South Wales  Australia   \n",
       "606  060 Morning Avenue      2016  New South Wales  Australia   \n",
       "599  060 Morning Avenue      2016  New South Wales  Australia   \n",
       "\n",
       "    property_valuation  \n",
       "605                 10  \n",
       "608                 10  \n",
       "607                 10  \n",
       "606                 10  \n",
       "599                 10  \n",
       "\n",
       "[5 rows x 30 columns]"
      ]
     },
     "execution_count": 7,
     "metadata": {},
     "output_type": "execute_result"
    }
   ],
   "source": [
    "df1.head()"
   ]
  },
  {
   "cell_type": "code",
   "execution_count": 8,
   "id": "c2ab2fcb",
   "metadata": {},
   "outputs": [
    {
     "name": "stdout",
     "output_type": "stream",
     "text": [
      "<class 'pandas.core.frame.DataFrame'>\n",
      "Int64Index: 19968 entries, 605 to 11299\n",
      "Data columns (total 30 columns):\n",
      " #   Column                               Non-Null Count  Dtype         \n",
      "---  ------                               --------------  -----         \n",
      " 0   transaction_id                       19968 non-null  int64         \n",
      " 1   product_id                           19968 non-null  int64         \n",
      " 2   customer_id                          19968 non-null  int64         \n",
      " 3   transaction_date                     19968 non-null  datetime64[ns]\n",
      " 4   online_order                         19609 non-null  float64       \n",
      " 5   order_status                         19968 non-null  object        \n",
      " 6   brand                                19773 non-null  object        \n",
      " 7   product_line                         19773 non-null  object        \n",
      " 8   product_class                        19773 non-null  object        \n",
      " 9   product_size                         19773 non-null  object        \n",
      " 10  list_price                           19968 non-null  float64       \n",
      " 11  standard_cost                        19773 non-null  float64       \n",
      " 12  product_first_sold_date              19773 non-null  float64       \n",
      " 13  first_name                           19968 non-null  object        \n",
      " 14  last_name                            19326 non-null  object        \n",
      " 15  gender                               19968 non-null  object        \n",
      " 16  past_3_years_bike_related_purchases  19968 non-null  int64         \n",
      " 17  DOB                                  19522 non-null  datetime64[ns]\n",
      " 18  job_title                            17589 non-null  object        \n",
      " 19  job_industry_category                16746 non-null  object        \n",
      " 20  wealth_segment                       19968 non-null  object        \n",
      " 21  deceased_indicator                   19968 non-null  object        \n",
      " 22  default                              18517 non-null  object        \n",
      " 23  owns_car                             19968 non-null  object        \n",
      " 24  tenure                               19522 non-null  float64       \n",
      " 25  address                              19968 non-null  object        \n",
      " 26  postcode                             19968 non-null  int64         \n",
      " 27  state                                19968 non-null  object        \n",
      " 28  country                              19968 non-null  object        \n",
      " 29  property_valuation                   19968 non-null  int64         \n",
      "dtypes: datetime64[ns](2), float64(5), int64(6), object(17)\n",
      "memory usage: 4.7+ MB\n"
     ]
    }
   ],
   "source": [
    "df1.info()"
   ]
  },
  {
   "cell_type": "code",
   "execution_count": 9,
   "id": "ed44c2cf",
   "metadata": {},
   "outputs": [],
   "source": [
    "df1['DOB'].fillna(method='ffill', inplace = True)\n",
    "\n",
    "ref_date = dt.datetime.now()\n",
    "df1['Age'] = df1['DOB'].apply(lambda x: len(pd.date_range(start = x, end = ref_date, freq = 'Y')))\n"
   ]
  },
  {
   "cell_type": "code",
   "execution_count": 10,
   "id": "b4d8f122",
   "metadata": {},
   "outputs": [],
   "source": [
    "df1[df1['Age']>100]\n",
    "df1.drop(df1.index[df1['Age'] > 100], inplace=True)"
   ]
  },
  {
   "cell_type": "code",
   "execution_count": 11,
   "id": "f1c49dd2",
   "metadata": {},
   "outputs": [
    {
     "data": {
      "image/png": "[encoded data removed]",
      "text/plain": [
       "<Figure size 864x576 with 1 Axes>"
      ]
     },
     "metadata": {
      "needs_background": "light"
     },
     "output_type": "display_data"
    }
   ],
   "source": [
    "#Data visualisation\n",
    "plt.figure(figsize = (12,8))\n",
    "plt.hist(df1['Age'], color = 'skyblue', edgecolor = 'white', bins=[0,10,20,30,40,50,60,70,80,90,100])\n",
    "plt.title('Age distribution')\n",
    "plt.xlabel('Age')\n",
    "plt.ylabel('Frequency')\n",
    "plt.savefig('age_dist_histogram.png')\n",
    "plt.show()"
   ]
  },
  {
   "cell_type": "code",
   "execution_count": 12,
   "id": "75eb681b",
   "metadata": {},
   "outputs": [],
   "source": [
    "df1['gender'] = df1['gender'].replace('U','Unspecified').replace('Femal','Female').replace('M','Male').replace('F','Female')"
   ]
  },
  {
   "cell_type": "code",
   "execution_count": 13,
   "id": "e6ee490f",
   "metadata": {},
   "outputs": [
    {
     "data": {
      "image/png": "[encoded data removed]",
      "text/plain": [
       "<Figure size 432x288 with 1 Axes>"
      ]
     },
     "metadata": {
      "needs_background": "light"
     },
     "output_type": "display_data"
    }
   ],
   "source": [
    "sns.countplot(x = 'gender', data = df1)\n",
    "plt.title('Gender Count')\n",
    "plt.savefig('gender_count_original.png')\n",
    "plt.show()"
   ]
  },
  {
   "cell_type": "code",
   "execution_count": 14,
   "id": "33927df9",
   "metadata": {},
   "outputs": [
    {
     "data": {
      "image/png": "[encoded data removed]",
      "text/plain": [
       "<Figure size 1152x576 with 1 Axes>"
      ]
     },
     "metadata": {
      "needs_background": "light"
     },
     "output_type": "display_data"
    }
   ],
   "source": [
    "plt.figure(figsize = (16,8))\n",
    "sns.countplot(x='job_industry_category', data = df1,palette=\"gist_earth\")\n",
    "plt.title('Job Industry Category Count')\n",
    "plt.savefig('job_industry_original.png')\n",
    "plt.show()"
   ]
  },
  {
   "cell_type": "code",
   "execution_count": 15,
   "id": "7002bbf1",
   "metadata": {},
   "outputs": [
    {
     "data": {
      "image/png": "[encoded data removed]",
      "text/plain": [
       "<Figure size 864x576 with 1 Axes>"
      ]
     },
     "metadata": {
      "needs_background": "light"
     },
     "output_type": "display_data"
    }
   ],
   "source": [
    "plt.figure(figsize = (12,8))\n",
    "sns.countplot(x = 'wealth_segment', data = df1, palette=\"Set1\")\n",
    "plt.title('Wealth Segment Distribution')\n",
    "plt.xlabel('Wealth segment')\n",
    "plt.ylabel('Frequency')\n",
    "plt.savefig('wealth_segment_original.png')\n",
    "plt.show()"
   ]
  },
  {
   "cell_type": "code",
   "execution_count": 16,
   "id": "33232a5a",
   "metadata": {},
   "outputs": [
    {
     "data": {
      "text/plain": [
       "<Figure size 1440x720 with 0 Axes>"
      ]
     },
     "metadata": {},
     "output_type": "display_data"
    },
    {
     "data": {
      "image/png": "[encoded data removed]",
      "text/plain": [
       "<Figure size 486.75x360 with 1 Axes>"
      ]
     },
     "metadata": {
      "needs_background": "light"
     },
     "output_type": "display_data"
    }
   ],
   "source": [
    "plt.figure(figsize = (20,10))\n",
    "sns.displot(x='Age', binwidth=10, data=df1, hue='wealth_segment',palette=\"Set1\")\n",
    "plt.title('Wealth Segment across age group')\n",
    "plt.savefig('wealth_segment-age_original.png')\n",
    "plt.show()"
   ]
  },
  {
   "cell_type": "code",
   "execution_count": 17,
   "id": "f2605b6c",
   "metadata": {},
   "outputs": [
    {
     "data": {
      "image/png": "[encoded data removed]",
      "text/plain": [
       "<Figure size 864x576 with 1 Axes>"
      ]
     },
     "metadata": {
      "needs_background": "light"
     },
     "output_type": "display_data"
    }
   ],
   "source": [
    "plt.figure(figsize = (12,8))\n",
    "sns.countplot(x = 'state', data = df1)\n",
    "plt.title('Number of people in different state')\n",
    "plt.savefig('people-state_original.png')\n",
    "plt.show()"
   ]
  },
  {
   "cell_type": "code",
   "execution_count": 18,
   "id": "a2074f6f",
   "metadata": {},
   "outputs": [
    {
     "data": {
      "image/png": "[encoded data removed]",
      "text/plain": [
       "<Figure size 864x576 with 1 Axes>"
      ]
     },
     "metadata": {
      "needs_background": "light"
     },
     "output_type": "display_data"
    }
   ],
   "source": [
    "plt.figure(figsize = (12,8))\n",
    "sns.countplot(x = 'owns_car',hue='state', data = df1)\n",
    "plt.title('Count of Cars owned in different state')\n",
    "plt.savefig('car-state_original.png')\n",
    "plt.show()"
   ]
  },
  {
   "cell_type": "code",
   "execution_count": 19,
   "id": "4b2f1d30",
   "metadata": {},
   "outputs": [
    {
     "data": {
      "text/html": [
       "<div>\n",
       "<style scoped>\n",
       "    .dataframe tbody tr th:only-of-type {\n",
       "        vertical-align: middle;\n",
       "    }\n",
       "\n",
       "    .dataframe tbody tr th {\n",
       "        vertical-align: top;\n",
       "    }\n",
       "\n",
       "    .dataframe thead th {\n",
       "        text-align: right;\n",
       "    }\n",
       "</style>\n",
       "<table border=\"1\" class=\"dataframe\">\n",
       "  <thead>\n",
       "    <tr style=\"text-align: right;\">\n",
       "      <th></th>\n",
       "      <th>state</th>\n",
       "      <th>past_3_years_bike_related_purchases</th>\n",
       "    </tr>\n",
       "  </thead>\n",
       "  <tbody>\n",
       "    <tr>\n",
       "      <th>0</th>\n",
       "      <td>NSW</td>\n",
       "      <td>500443</td>\n",
       "    </tr>\n",
       "    <tr>\n",
       "      <th>1</th>\n",
       "      <td>New South Wales</td>\n",
       "      <td>24761</td>\n",
       "    </tr>\n",
       "    <tr>\n",
       "      <th>2</th>\n",
       "      <td>QLD</td>\n",
       "      <td>207749</td>\n",
       "    </tr>\n",
       "    <tr>\n",
       "      <th>3</th>\n",
       "      <td>VIC</td>\n",
       "      <td>217683</td>\n",
       "    </tr>\n",
       "    <tr>\n",
       "      <th>4</th>\n",
       "      <td>Victoria</td>\n",
       "      <td>22421</td>\n",
       "    </tr>\n",
       "  </tbody>\n",
       "</table>\n",
       "</div>"
      ],
      "text/plain": [
       "             state  past_3_years_bike_related_purchases\n",
       "0              NSW                               500443\n",
       "1  New South Wales                                24761\n",
       "2              QLD                               207749\n",
       "3              VIC                               217683\n",
       "4         Victoria                                22421"
      ]
     },
     "execution_count": 19,
     "metadata": {},
     "output_type": "execute_result"
    }
   ],
   "source": [
    "sum = df1.groupby('state', as_index=False).past_3_years_bike_related_purchases.sum()\n",
    "sum"
   ]
  },
  {
   "cell_type": "code",
   "execution_count": 20,
   "id": "4c9338d4",
   "metadata": {},
   "outputs": [
    {
     "data": {
      "image/png": "[encoded data removed]",
      "text/plain": [
       "<Figure size 720x432 with 1 Axes>"
      ]
     },
     "metadata": {
      "needs_background": "light"
     },
     "output_type": "display_data"
    }
   ],
   "source": [
    "plt.figure(figsize=(10,6))\n",
    "plt.title(\"Sum of bike related purchase state-wise\")\n",
    "sns.barplot(x=sum['state'], y=sum['past_3_years_bike_related_purchases'])\n",
    "plt.savefig('past_3_yrs-state_original.png')\n",
    "plt.show()"
   ]
  },
  {
   "cell_type": "markdown",
   "id": "3ad714b1",
   "metadata": {},
   "source": [
    "## New Customer List Exploration"
   ]
  },
  {
   "cell_type": "code",
   "execution_count": 21,
   "id": "f56b7e18",
   "metadata": {},
   "outputs": [
    {
     "data": {
      "text/html": [
       "<div>\n",
       "<style scoped>\n",
       "    .dataframe tbody tr th:only-of-type {\n",
       "        vertical-align: middle;\n",
       "    }\n",
       "\n",
       "    .dataframe tbody tr th {\n",
       "        vertical-align: top;\n",
       "    }\n",
       "\n",
       "    .dataframe thead th {\n",
       "        text-align: right;\n",
       "    }\n",
       "</style>\n",
       "<table border=\"1\" class=\"dataframe\">\n",
       "  <thead>\n",
       "    <tr style=\"text-align: right;\">\n",
       "      <th></th>\n",
       "      <th>Unnamed: 0</th>\n",
       "      <th>customer_id</th>\n",
       "      <th>first_name</th>\n",
       "      <th>last_name</th>\n",
       "      <th>gender</th>\n",
       "      <th>past_3_years_bike_related_purchases</th>\n",
       "      <th>DOB</th>\n",
       "      <th>job_title</th>\n",
       "      <th>job_industry_category</th>\n",
       "      <th>wealth_segment</th>\n",
       "      <th>deceased_indicator</th>\n",
       "      <th>owns_car</th>\n",
       "      <th>tenure</th>\n",
       "      <th>address</th>\n",
       "      <th>postcode</th>\n",
       "      <th>state</th>\n",
       "      <th>country</th>\n",
       "      <th>property_valuation</th>\n",
       "      <th>Rank</th>\n",
       "      <th>Value</th>\n",
       "    </tr>\n",
       "  </thead>\n",
       "  <tbody>\n",
       "    <tr>\n",
       "      <th>0</th>\n",
       "      <td>0</td>\n",
       "      <td>4001</td>\n",
       "      <td>Chickie</td>\n",
       "      <td>Brister</td>\n",
       "      <td>Male</td>\n",
       "      <td>86</td>\n",
       "      <td>1957-07-12</td>\n",
       "      <td>General Manager</td>\n",
       "      <td>Manufacturing</td>\n",
       "      <td>Mass Customer</td>\n",
       "      <td>N</td>\n",
       "      <td>Yes</td>\n",
       "      <td>14</td>\n",
       "      <td>45 Shopko Center</td>\n",
       "      <td>4500</td>\n",
       "      <td>QLD</td>\n",
       "      <td>Australia</td>\n",
       "      <td>6</td>\n",
       "      <td>1</td>\n",
       "      <td>1.718750</td>\n",
       "    </tr>\n",
       "    <tr>\n",
       "      <th>1</th>\n",
       "      <td>1</td>\n",
       "      <td>4002</td>\n",
       "      <td>Morly</td>\n",
       "      <td>Genery</td>\n",
       "      <td>Male</td>\n",
       "      <td>69</td>\n",
       "      <td>1970-03-22</td>\n",
       "      <td>Structural Engineer</td>\n",
       "      <td>Property</td>\n",
       "      <td>Mass Customer</td>\n",
       "      <td>N</td>\n",
       "      <td>No</td>\n",
       "      <td>16</td>\n",
       "      <td>14 Mccormick Park</td>\n",
       "      <td>2113</td>\n",
       "      <td>NSW</td>\n",
       "      <td>Australia</td>\n",
       "      <td>11</td>\n",
       "      <td>1</td>\n",
       "      <td>1.718750</td>\n",
       "    </tr>\n",
       "    <tr>\n",
       "      <th>2</th>\n",
       "      <td>2</td>\n",
       "      <td>4003</td>\n",
       "      <td>Ardelis</td>\n",
       "      <td>Forrester</td>\n",
       "      <td>Female</td>\n",
       "      <td>10</td>\n",
       "      <td>1974-08-28</td>\n",
       "      <td>Senior Cost Accountant</td>\n",
       "      <td>Financial Services</td>\n",
       "      <td>Affluent Customer</td>\n",
       "      <td>N</td>\n",
       "      <td>No</td>\n",
       "      <td>10</td>\n",
       "      <td>5 Colorado Crossing</td>\n",
       "      <td>3505</td>\n",
       "      <td>VIC</td>\n",
       "      <td>Australia</td>\n",
       "      <td>5</td>\n",
       "      <td>1</td>\n",
       "      <td>1.718750</td>\n",
       "    </tr>\n",
       "    <tr>\n",
       "      <th>3</th>\n",
       "      <td>3</td>\n",
       "      <td>4004</td>\n",
       "      <td>Lucine</td>\n",
       "      <td>Stutt</td>\n",
       "      <td>Female</td>\n",
       "      <td>64</td>\n",
       "      <td>1979-01-28</td>\n",
       "      <td>Account Representative III</td>\n",
       "      <td>Manufacturing</td>\n",
       "      <td>Affluent Customer</td>\n",
       "      <td>N</td>\n",
       "      <td>Yes</td>\n",
       "      <td>5</td>\n",
       "      <td>207 Annamark Plaza</td>\n",
       "      <td>4814</td>\n",
       "      <td>QLD</td>\n",
       "      <td>Australia</td>\n",
       "      <td>1</td>\n",
       "      <td>4</td>\n",
       "      <td>1.703125</td>\n",
       "    </tr>\n",
       "    <tr>\n",
       "      <th>4</th>\n",
       "      <td>4</td>\n",
       "      <td>4005</td>\n",
       "      <td>Melinda</td>\n",
       "      <td>Hadlee</td>\n",
       "      <td>Female</td>\n",
       "      <td>34</td>\n",
       "      <td>1965-09-21</td>\n",
       "      <td>Financial Analyst</td>\n",
       "      <td>Financial Services</td>\n",
       "      <td>Affluent Customer</td>\n",
       "      <td>N</td>\n",
       "      <td>No</td>\n",
       "      <td>19</td>\n",
       "      <td>115 Montana Place</td>\n",
       "      <td>2093</td>\n",
       "      <td>NSW</td>\n",
       "      <td>Australia</td>\n",
       "      <td>9</td>\n",
       "      <td>4</td>\n",
       "      <td>1.703125</td>\n",
       "    </tr>\n",
       "  </tbody>\n",
       "</table>\n",
       "</div>"
      ],
      "text/plain": [
       "   Unnamed: 0  customer_id first_name  last_name  gender  \\\n",
       "0           0         4001    Chickie    Brister    Male   \n",
       "1           1         4002      Morly     Genery    Male   \n",
       "2           2         4003    Ardelis  Forrester  Female   \n",
       "3           3         4004     Lucine      Stutt  Female   \n",
       "4           4         4005    Melinda     Hadlee  Female   \n",
       "\n",
       "   past_3_years_bike_related_purchases        DOB                   job_title  \\\n",
       "0                                   86 1957-07-12             General Manager   \n",
       "1                                   69 1970-03-22         Structural Engineer   \n",
       "2                                   10 1974-08-28      Senior Cost Accountant   \n",
       "3                                   64 1979-01-28  Account Representative III   \n",
       "4                                   34 1965-09-21           Financial Analyst   \n",
       "\n",
       "  job_industry_category     wealth_segment deceased_indicator owns_car  \\\n",
       "0         Manufacturing      Mass Customer                  N      Yes   \n",
       "1              Property      Mass Customer                  N       No   \n",
       "2    Financial Services  Affluent Customer                  N       No   \n",
       "3         Manufacturing  Affluent Customer                  N      Yes   \n",
       "4    Financial Services  Affluent Customer                  N       No   \n",
       "\n",
       "   tenure              address  postcode state    country  property_valuation  \\\n",
       "0      14     45 Shopko Center      4500   QLD  Australia                   6   \n",
       "1      16    14 Mccormick Park      2113   NSW  Australia                  11   \n",
       "2      10  5 Colorado Crossing      3505   VIC  Australia                   5   \n",
       "3       5   207 Annamark Plaza      4814   QLD  Australia                   1   \n",
       "4      19    115 Montana Place      2093   NSW  Australia                   9   \n",
       "\n",
       "   Rank     Value  \n",
       "0     1  1.718750  \n",
       "1     1  1.718750  \n",
       "2     1  1.718750  \n",
       "3     4  1.703125  \n",
       "4     4  1.703125  "
      ]
     },
     "execution_count": 21,
     "metadata": {},
     "output_type": "execute_result"
    }
   ],
   "source": [
    "df2=NewCustomerList_clean\n",
    "df2.head()"
   ]
  },
  {
   "cell_type": "code",
   "execution_count": 22,
   "id": "98177b88",
   "metadata": {},
   "outputs": [
    {
     "name": "stdout",
     "output_type": "stream",
     "text": [
      "<class 'pandas.core.frame.DataFrame'>\n",
      "RangeIndex: 1000 entries, 0 to 999\n",
      "Data columns (total 20 columns):\n",
      " #   Column                               Non-Null Count  Dtype         \n",
      "---  ------                               --------------  -----         \n",
      " 0   Unnamed: 0                           1000 non-null   int64         \n",
      " 1   customer_id                          1000 non-null   int64         \n",
      " 2   first_name                           1000 non-null   object        \n",
      " 3   last_name                            971 non-null    object        \n",
      " 4   gender                               1000 non-null   object        \n",
      " 5   past_3_years_bike_related_purchases  1000 non-null   int64         \n",
      " 6   DOB                                  983 non-null    datetime64[ns]\n",
      " 7   job_title                            894 non-null    object        \n",
      " 8   job_industry_category                835 non-null    object        \n",
      " 9   wealth_segment                       1000 non-null   object        \n",
      " 10  deceased_indicator                   1000 non-null   object        \n",
      " 11  owns_car                             1000 non-null   object        \n",
      " 12  tenure                               1000 non-null   int64         \n",
      " 13  address                              1000 non-null   object        \n",
      " 14  postcode                             1000 non-null   int64         \n",
      " 15  state                                1000 non-null   object        \n",
      " 16  country                              1000 non-null   object        \n",
      " 17  property_valuation                   1000 non-null   int64         \n",
      " 18  Rank                                 1000 non-null   int64         \n",
      " 19  Value                                1000 non-null   float64       \n",
      "dtypes: datetime64[ns](1), float64(1), int64(7), object(11)\n",
      "memory usage: 156.4+ KB\n"
     ]
    }
   ],
   "source": [
    "df2.info()"
   ]
  },
  {
   "cell_type": "code",
   "execution_count": 23,
   "id": "792b82c0",
   "metadata": {},
   "outputs": [],
   "source": [
    "df2['DOB'].fillna(method='ffill', inplace = True)"
   ]
  },
  {
   "cell_type": "code",
   "execution_count": 24,
   "id": "defd9366",
   "metadata": {},
   "outputs": [],
   "source": [
    "ref_date2 = dt.datetime.now()\n",
    "df2['Age'] = df2['DOB'].apply(lambda x: len(pd.date_range(start = x, end = ref_date2, freq = 'Y')) if str(x) else None)"
   ]
  },
  {
   "cell_type": "code",
   "execution_count": 25,
   "id": "08fe17fe",
   "metadata": {},
   "outputs": [
    {
     "data": {
      "image/png": "[encoded data removed]",
      "text/plain": [
       "<Figure size 864x576 with 1 Axes>"
      ]
     },
     "metadata": {
      "needs_background": "light"
     },
     "output_type": "display_data"
    }
   ],
   "source": [
    "plt.figure(figsize = (12,8))\n",
    "plt.hist(df2['Age'], color = 'ORANGE', edgecolor = 'white', bins=[0,10,20,30,40,50,60,70,80,90,100])\n",
    "plt.title('Age distribution')\n",
    "plt.xlabel('Age')\n",
    "plt.ylabel('Frequency')\n",
    "plt.savefig('age_dist_histogram2.png')\n",
    "plt.show()"
   ]
  },
  {
   "cell_type": "code",
   "execution_count": 26,
   "id": "abec2559",
   "metadata": {},
   "outputs": [
    {
     "data": {
      "image/png": "[encoded data removed]",
      "text/plain": [
       "<Figure size 432x288 with 1 Axes>"
      ]
     },
     "metadata": {
      "needs_background": "light"
     },
     "output_type": "display_data"
    }
   ],
   "source": [
    "sns.countplot(x = 'gender', data = df2)\n",
    "plt.title('Gender Count')\n",
    "plt.savefig('gender_count_original2.png')\n",
    "plt.show()"
   ]
  },
  {
   "cell_type": "code",
   "execution_count": 27,
   "id": "fd469b5e",
   "metadata": {},
   "outputs": [
    {
     "data": {
      "image/png": "[encoded data removed]",
      "text/plain": [
       "<Figure size 1152x576 with 1 Axes>"
      ]
     },
     "metadata": {
      "needs_background": "light"
     },
     "output_type": "display_data"
    }
   ],
   "source": [
    "plt.figure(figsize = (16,8))\n",
    "sns.countplot(x='job_industry_category', data = df2,palette=\"Set2\")\n",
    "plt.title('Job Industry Category Count')\n",
    "plt.savefig('job_industry_original2.png')\n",
    "plt.show()"
   ]
  },
  {
   "cell_type": "code",
   "execution_count": 28,
   "id": "22496e09",
   "metadata": {},
   "outputs": [
    {
     "data": {
      "image/png": "[encoded data removed]",
      "text/plain": [
       "<Figure size 864x576 with 1 Axes>"
      ]
     },
     "metadata": {
      "needs_background": "light"
     },
     "output_type": "display_data"
    }
   ],
   "source": [
    "plt.figure(figsize = (12,8))\n",
    "sns.countplot(x = 'wealth_segment', data = df2, palette=\"Set2\")\n",
    "plt.title('Wealth Segment Distribution')\n",
    "plt.xlabel('Wealth segment')\n",
    "plt.ylabel('Frequency')\n",
    "plt.savefig('wealth_segment_original2.png')\n",
    "plt.show()"
   ]
  },
  {
   "cell_type": "code",
   "execution_count": 29,
   "id": "79e3dd45",
   "metadata": {},
   "outputs": [
    {
     "data": {
      "text/plain": [
       "<Figure size 1152x576 with 0 Axes>"
      ]
     },
     "metadata": {},
     "output_type": "display_data"
    },
    {
     "data": {
      "image/png": "[encoded data removed]",
      "text/plain": [
       "<Figure size 486.75x360 with 1 Axes>"
      ]
     },
     "metadata": {
      "needs_background": "light"
     },
     "output_type": "display_data"
    }
   ],
   "source": [
    "plt.figure(figsize = (16,8))\n",
    "sns.displot(x='Age', binwidth=10, data=df2, hue='wealth_segment',palette=\"Set2\")\n",
    "plt.title('Wealth Segment across age group')\n",
    "plt.savefig('wealth_segment-age_original2.png')\n",
    "plt.show()"
   ]
  },
  {
   "cell_type": "code",
   "execution_count": 30,
   "id": "660fbd01",
   "metadata": {},
   "outputs": [
    {
     "data": {
      "image/png": "[encoded data removed]",
      "text/plain": [
       "<Figure size 864x576 with 1 Axes>"
      ]
     },
     "metadata": {
      "needs_background": "light"
     },
     "output_type": "display_data"
    }
   ],
   "source": [
    "plt.figure(figsize = (12,8))\n",
    "sns.countplot(x = 'state', data = df2)\n",
    "plt.title('Number of people in different state')\n",
    "plt.savefig('people-state_original2.png')\n",
    "plt.show()"
   ]
  },
  {
   "cell_type": "code",
   "execution_count": 31,
   "id": "fefb4e34",
   "metadata": {},
   "outputs": [
    {
     "data": {
      "image/png": "[encoded data removed]",
      "text/plain": [
       "<Figure size 864x576 with 1 Axes>"
      ]
     },
     "metadata": {
      "needs_background": "light"
     },
     "output_type": "display_data"
    }
   ],
   "source": [
    "plt.figure(figsize = (12,8))\n",
    "sns.countplot(x = 'owns_car',hue='state', data = df2)\n",
    "plt.title('Count of Cars owned in different state')\n",
    "plt.savefig('car-state_original2.png')\n",
    "plt.show()"
   ]
  },
  {
   "cell_type": "code",
   "execution_count": 32,
   "id": "3c3fa1e9",
   "metadata": {},
   "outputs": [
    {
     "data": {
      "text/html": [
       "<div>\n",
       "<style scoped>\n",
       "    .dataframe tbody tr th:only-of-type {\n",
       "        vertical-align: middle;\n",
       "    }\n",
       "\n",
       "    .dataframe tbody tr th {\n",
       "        vertical-align: top;\n",
       "    }\n",
       "\n",
       "    .dataframe thead th {\n",
       "        text-align: right;\n",
       "    }\n",
       "</style>\n",
       "<table border=\"1\" class=\"dataframe\">\n",
       "  <thead>\n",
       "    <tr style=\"text-align: right;\">\n",
       "      <th></th>\n",
       "      <th>state</th>\n",
       "      <th>past_3_years_bike_related_purchases</th>\n",
       "    </tr>\n",
       "  </thead>\n",
       "  <tbody>\n",
       "    <tr>\n",
       "      <th>0</th>\n",
       "      <td>NSW</td>\n",
       "      <td>25409</td>\n",
       "    </tr>\n",
       "    <tr>\n",
       "      <th>1</th>\n",
       "      <td>QLD</td>\n",
       "      <td>11751</td>\n",
       "    </tr>\n",
       "    <tr>\n",
       "      <th>2</th>\n",
       "      <td>VIC</td>\n",
       "      <td>12676</td>\n",
       "    </tr>\n",
       "  </tbody>\n",
       "</table>\n",
       "</div>"
      ],
      "text/plain": [
       "  state  past_3_years_bike_related_purchases\n",
       "0   NSW                                25409\n",
       "1   QLD                                11751\n",
       "2   VIC                                12676"
      ]
     },
     "execution_count": 32,
     "metadata": {},
     "output_type": "execute_result"
    }
   ],
   "source": [
    "sum2 = df2.groupby('state', as_index=False).past_3_years_bike_related_purchases.sum()\n",
    "sum2"
   ]
  },
  {
   "cell_type": "code",
   "execution_count": 33,
   "id": "c6b1037b",
   "metadata": {},
   "outputs": [
    {
     "data": {
      "image/png": "[encoded data removed]",
      "text/plain": [
       "<Figure size 720x432 with 1 Axes>"
      ]
     },
     "metadata": {
      "needs_background": "light"
     },
     "output_type": "display_data"
    }
   ],
   "source": [
    "plt.figure(figsize=(10,6))\n",
    "plt.title(\"Sum of bike related purchase state-wise\")\n",
    "sns.barplot(x=sum2['state'], y=sum2['past_3_years_bike_related_purchases'])\n",
    "plt.savefig('past_3_yrs-state_original2.png')\n",
    "plt.show()"
   ]
  }
 ],
 "metadata": {
  "kernelspec": {
   "display_name": "Python 3 (ipykernel)",
   "language": "python",
   "name": "python3"
  },
  "language_info": {
   "codemirror_mode": {
    "name": "ipython",
    "version": 3
   },
   "file_extension": ".py",
   "mimetype": "text/x-python",
   "name": "python",
   "nbconvert_exporter": "python",
   "pygments_lexer": "ipython3",
   "version": "3.9.5"
  }
 },
 "nbformat": 4,
 "nbformat_minor": 5
}
